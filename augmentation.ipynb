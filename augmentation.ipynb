{
 "cells": [
  {
   "cell_type": "code",
   "execution_count": null,
   "id": "a42a2088",
   "metadata": {},
   "outputs": [],
   "source": [
    "from keras.preprocessing.image import ImageDataGenerator, array_to_img, img_to_array, load_img"
   ]
  },
  {
   "cell_type": "markdown",
   "id": "cf4e97bf",
   "metadata": {},
   "source": [
    "# Save Same Folder"
   ]
  },
  {
   "cell_type": "markdown",
   "id": "34e53fe8",
   "metadata": {},
   "source": [
    "from keras.preprocessing.image import ImageDataGenerator\n",
    "import numpy as np\n",
    "from PIL import Image\n",
    "\n",
    "datagen = ImageDataGenerator(\n",
    "        rotation_range=40,\n",
    "        width_shift_range=0.2,\n",
    "        height_shift_range=0.2,\n",
    "        shear_range=0.2,\n",
    "        zoom_range=0.2,\n",
    "        horizontal_flip=True,\n",
    "        fill_mode='nearest')\n",
    "\n",
    "img = Image.open('Image/Mehedi.jpeg')  # this is a PIL image\n",
    "x = np.array(img)  # this is a Numpy array with shape (height, width, 3)\n",
    "x = x.reshape((1,) + x.shape)  # this is a Numpy array with shape (1, height, width, 3)\n",
    "\n",
    "i = 0\n",
    "for batch in datagen.flow(x, batch_size=1):\n",
    "    i += 1\n",
    "    if i > 20:\n",
    "        break  # otherwise the generator would loop indefinitely\n",
    "    Image.fromarray(batch[0].astype('uint8')).save(f'Image/Mehedi_augmented_{i}.jpeg')\n"
   ]
  },
  {
   "cell_type": "markdown",
   "id": "80253324",
   "metadata": {},
   "source": [
    "# Save New Data Folder"
   ]
  },
  {
   "cell_type": "code",
   "execution_count": 2,
   "id": "cceb8c24",
   "metadata": {},
   "outputs": [],
   "source": [
    "import os\n",
    "import numpy as np\n",
    "from PIL import Image\n",
    "from tensorflow.keras.preprocessing.image import ImageDataGenerator, img_to_array\n",
    "\n",
    "datagen = ImageDataGenerator(\n",
    "        rotation_range=40,\n",
    "        width_shift_range=0.2,\n",
    "        height_shift_range=0.2,\n",
    "        shear_range=0.2,\n",
    "        zoom_range=0.2,\n",
    "        horizontal_flip=True,\n",
    "        fill_mode='nearest')\n",
    "\n",
    "img_path = 'Image/Mehedi.jpeg'  # path of input image\n",
    "img = Image.open(img_path)  # PIL image\n",
    "x = img_to_array(img)  # Numpy array with shape (3, 150, 150)\n",
    "x = x.reshape((1,) + x.shape)  # Numpy array with shape (1, 3, 150, 150)\n",
    "\n",
    "if not os.path.exists('New Data'):\n",
    "    os.mkdir('New Data')\n",
    "\n",
    "i = 0\n",
    "for batch in datagen.flow(x, batch_size=1,\n",
    "                          save_to_dir='New Data', save_prefix='aug', save_format='jpeg'):\n",
    "    i += 1\n",
    "    if i > 20:\n",
    "        break  # generate 20 augmented images\n"
   ]
  },
  {
   "cell_type": "code",
   "execution_count": null,
   "id": "01b6a2c8",
   "metadata": {},
   "outputs": [],
   "source": []
  }
 ],
 "metadata": {
  "kernelspec": {
   "display_name": "Python 3 (ipykernel)",
   "language": "python",
   "name": "python3"
  },
  "language_info": {
   "codemirror_mode": {
    "name": "ipython",
    "version": 3
   },
   "file_extension": ".py",
   "mimetype": "text/x-python",
   "name": "python",
   "nbconvert_exporter": "python",
   "pygments_lexer": "ipython3",
   "version": "3.10.10"
  }
 },
 "nbformat": 4,
 "nbformat_minor": 5
}
